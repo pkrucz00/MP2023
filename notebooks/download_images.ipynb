{
 "cells": [
  {
   "cell_type": "code",
   "execution_count": 7,
   "metadata": {},
   "outputs": [],
   "source": [
    "from jmd_imagescraper.core import * # dont't worry, it's designed to work with import *\n",
    "from pathlib import Path\n",
    "\n",
    "root = Path().absolute().parent / \"data/images\"\n"
   ]
  },
  {
   "cell_type": "code",
   "execution_count": 9,
   "metadata": {},
   "outputs": [
    {
     "data": {
      "text/plain": [
       "['freddie_mercury',\n",
       " 'walter_white',\n",
       " 'timothee_chalamet',\n",
       " 'tyrion_lannister',\n",
       " 'willem_dafoe',\n",
       " 'dr_house',\n",
       " 'brad_pit',\n",
       " 'scarlett_johansson',\n",
       " 'lucifer',\n",
       " 'cersei_lannister']"
      ]
     },
     "execution_count": 9,
     "metadata": {},
     "output_type": "execute_result"
    }
   ],
   "source": [
    "import os \n",
    "\n",
    "def get_fnames_without_extension(directory_path: Path):\n",
    "    file_names = []\n",
    "\n",
    "    for filename in os.listdir(directory_path):\n",
    "        if os.path.isfile(os.path.join(directory_path, filename)):\n",
    "            name, extension = os.path.splitext(filename)\n",
    "            if name[0] != \".\":\n",
    "                file_names.append(name)\n",
    "    \n",
    "    return file_names\n",
    "\n",
    "names = get_fnames_without_extension(root.parent / \"data/real_faces\")\n",
    "names"
   ]
  },
  {
   "cell_type": "code",
   "execution_count": 10,
   "metadata": {},
   "outputs": [
    {
     "name": "stdout",
     "output_type": "stream",
     "text": [
      "Duckduckgo search: freddie_mercury face frontal picture\n"
     ]
    },
    {
     "name": "stdout",
     "output_type": "stream",
     "text": [
      "Duckduckgo search: walter_white face frontal picture\n"
     ]
    },
    {
     "name": "stdout",
     "output_type": "stream",
     "text": [
      "Duckduckgo search: timothee_chalamet face frontal picture\n"
     ]
    },
    {
     "name": "stdout",
     "output_type": "stream",
     "text": [
      "Duckduckgo search: tyrion_lannister face frontal picture\n"
     ]
    },
    {
     "name": "stdout",
     "output_type": "stream",
     "text": [
      "Duckduckgo search: willem_dafoe face frontal picture\n"
     ]
    },
    {
     "name": "stdout",
     "output_type": "stream",
     "text": [
      "Duckduckgo search: dr_house face frontal picture\n"
     ]
    },
    {
     "name": "stdout",
     "output_type": "stream",
     "text": [
      "Duckduckgo search: brad_pit face frontal picture\n"
     ]
    },
    {
     "name": "stdout",
     "output_type": "stream",
     "text": [
      "Duckduckgo search: scarlett_johansson face frontal picture\n"
     ]
    },
    {
     "name": "stdout",
     "output_type": "stream",
     "text": [
      "Duckduckgo search: lucifer face frontal picture\n"
     ]
    },
    {
     "name": "stdout",
     "output_type": "stream",
     "text": [
      "Duckduckgo search: cersei_lannister face frontal picture\n"
     ]
    }
   ],
   "source": [
    "for name in names:\n",
    "    duckduckgo_search(root, name, f\"{name} face frontal picture\", max_results=20)\n"
   ]
  },
  {
   "cell_type": "code",
   "execution_count": null,
   "metadata": {},
   "outputs": [],
   "source": [
    "from jmd_imagescraper.imagecleaner import *\n",
    "\n",
    "display_image_cleaner(root)"
   ]
  }
 ],
 "metadata": {
  "kernelspec": {
   "display_name": "venv",
   "language": "python",
   "name": "python3"
  },
  "language_info": {
   "codemirror_mode": {
    "name": "ipython",
    "version": 3
   },
   "file_extension": ".py",
   "mimetype": "text/x-python",
   "name": "python",
   "nbconvert_exporter": "python",
   "pygments_lexer": "ipython3",
   "version": "3.10.10"
  },
  "orig_nbformat": 4
 },
 "nbformat": 4,
 "nbformat_minor": 2
}
